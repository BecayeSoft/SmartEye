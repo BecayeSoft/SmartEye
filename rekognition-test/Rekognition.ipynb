{
 "cells": [
  {
   "cell_type": "code",
   "execution_count": null,
   "metadata": {},
   "outputs": [],
   "source": [
    "# !%pip% install boto3"
   ]
  },
  {
   "cell_type": "code",
   "execution_count": 2,
   "metadata": {},
   "outputs": [],
   "source": [
    "import boto3\n",
    "import pprint\n",
    "pp = pprint.PrettyPrinter(width=41, compact=True)"
   ]
  },
  {
   "cell_type": "markdown",
   "metadata": {},
   "source": [
    "### Getting Credentials"
   ]
  },
  {
   "cell_type": "code",
   "execution_count": 3,
   "metadata": {},
   "outputs": [],
   "source": [
    "\n",
    "session = boto3.Session()\n",
    "credentials = session.get_credentials()\n",
    "# Credentials are refreshable, so accessing your access key / secret key separately\n",
    "# can lead to a race condition. Use this to get an actual matched set.\n",
    "credentials = credentials.get_frozen_credentials()\n",
    "access_key = credentials.access_key\n",
    "secret_key = credentials.secret_key"
   ]
  },
  {
   "attachments": {},
   "cell_type": "markdown",
   "metadata": {},
   "source": [
    "### Connection to boto3"
   ]
  },
  {
   "cell_type": "code",
   "execution_count": 4,
   "metadata": {},
   "outputs": [
    {
     "data": {
      "text/plain": [
       "<botocore.client.Rekognition at 0x1c737f28d30>"
      ]
     },
     "execution_count": 4,
     "metadata": {},
     "output_type": "execute_result"
    }
   ],
   "source": [
    "session = boto3.Session()\n",
    "\n",
    "# Create a Rekognition client\n",
    "# An object to interact with rekognition\n",
    "client = boto3.client(\n",
    "    'rekognition',\n",
    "    region_name=session.region_name,\n",
    ")\n",
    "\n",
    "client"
   ]
  },
  {
   "cell_type": "markdown",
   "metadata": {},
   "source": [
    "\n",
    "### Rekognition with Uploaded Image"
   ]
  },
  {
   "cell_type": "code",
   "execution_count": 6,
   "metadata": {},
   "outputs": [],
   "source": [
    "\n",
    "# uploading image file directly as byte array\n",
    "with open(\"woman.jpg\", 'rb') as image:\n",
    "    response = client.detect_faces(Image={\n",
    "        'Bytes': image.read()\n",
    "     },\n",
    "\n",
    "     # returns all attributes\n",
    "    Attributes=['ALL']\n",
    ")\n"
   ]
  },
  {
   "cell_type": "code",
   "execution_count": 7,
   "metadata": {},
   "outputs": [
    {
     "name": "stdout",
     "output_type": "stream",
     "text": [
      "{'FaceDetails': [{'AgeRange': {'High': 22,\n",
      "                               'Low': 16},\n",
      "                  'Beard': {'Confidence': 92.92182159423828,\n",
      "                            'Value': False},\n",
      "                  'BoundingBox': {'Height': 0.3023296594619751,\n",
      "                                  'Left': 0.29632022976875305,\n",
      "                                  'Top': 0.2098408192396164,\n",
      "                                  'Width': 0.44106292724609375},\n",
      "                  'Confidence': 99.99974060058594,\n",
      "                  'Emotions': [{'Confidence': 99.20033264160156,\n",
      "                                'Type': 'HAPPY'},\n",
      "                               {'Confidence': 6.548469543457031,\n",
      "                                'Type': 'SURPRISED'},\n",
      "                               {'Confidence': 5.892847061157227,\n",
      "                                'Type': 'FEAR'},\n",
      "                               {'Confidence': 2.153432846069336,\n",
      "                                'Type': 'SAD'},\n",
      "                               {'Confidence': 0.08329206705093384,\n",
      "                                'Type': 'CONFUSED'},\n",
      "                               {'Confidence': 0.02932136505842209,\n",
      "                                'Type': 'ANGRY'},\n",
      "                               {'Confidence': 0.02661105804145336,\n",
      "                                'Type': 'DISGUSTED'},\n",
      "                               {'Confidence': 0.014708302915096283,\n",
      "                                'Type': 'CALM'}],\n",
      "                  'Eyeglasses': {'Confidence': 97.55413818359375,\n",
      "                                 'Value': False},\n",
      "                  'EyesOpen': {'Confidence': 96.68051147460938,\n",
      "                               'Value': True},\n",
      "                  'Genders': {'Confidence': 99.79552459716797,\n",
      "                             'Value': 'Female'},\n",
      "                  'Landmarks': [{'Type': 'eyeLeft',\n",
      "                                 'X': 0.4706243574619293,\n",
      "                                 'Y': 0.3557208478450775},\n",
      "                                {'Type': 'eyeRight',\n",
      "                                 'X': 0.5657208561897278,\n",
      "                                 'Y': 0.2914467751979828},\n",
      "                                {'Type': 'mouthLeft',\n",
      "                                 'X': 0.5884484052658081,\n",
      "                                 'Y': 0.4416860342025757},\n",
      "                                {'Type': 'mouthRight',\n",
      "                                 'X': 0.6664435863494873,\n",
      "                                 'Y': 0.38698655366897583},\n",
      "                                {'Type': 'nose',\n",
      "                                 'X': 0.6305024027824402,\n",
      "                                 'Y': 0.34658655524253845},\n",
      "                                {'Type': 'leftEyeBrowLeft',\n",
      "                                 'X': 0.39014625549316406,\n",
      "                                 'Y': 0.36809131503105164},\n",
      "                                {'Type': 'leftEyeBrowRight',\n",
      "                                 'X': 0.4762655198574066,\n",
      "                                 'Y': 0.3073824346065521},\n",
      "                                {'Type': 'leftEyeBrowUp',\n",
      "                                 'X': 0.43226996064186096,\n",
      "                                 'Y': 0.3258442282676697},\n",
      "                                {'Type': 'rightEyeBrowLeft',\n",
      "                                 'X': 0.5327440500259399,\n",
      "                                 'Y': 0.2711314857006073},\n",
      "                                {'Type': 'rightEyeBrowRight',\n",
      "                                 'X': 0.5587038397789001,\n",
      "                                 'Y': 0.2570421099662781},\n",
      "                                {'Type': 'rightEyeBrowUp',\n",
      "                                 'X': 0.5457737445831299,\n",
      "                                 'Y': 0.2526727318763733},\n",
      "                                {'Type': 'leftEyeLeft',\n",
      "                                 'X': 0.4457009434700012,\n",
      "                                 'Y': 0.3701555132865906},\n",
      "                                {'Type': 'leftEyeRight',\n",
      "                                 'X': 0.49010807275772095,\n",
      "                                 'Y': 0.34401559829711914},\n",
      "                                {'Type': 'leftEyeUp',\n",
      "                                 'X': 0.4672850966453552,\n",
      "                                 'Y': 0.3501255214214325},\n",
      "                                {'Type': 'leftEyeDown',\n",
      "                                 'X': 0.47587400674819946,\n",
      "                                 'Y': 0.3594096899032593},\n",
      "                                {'Type': 'rightEyeLeft',\n",
      "                                 'X': 0.5479042530059814,\n",
      "                                 'Y': 0.30537620186805725},\n",
      "                                {'Type': 'rightEyeRight',\n",
      "                                 'X': 0.5756771564483643,\n",
      "                                 'Y': 0.2830093502998352},\n",
      "                                {'Type': 'rightEyeUp',\n",
      "                                 'X': 0.5634962916374207,\n",
      "                                 'Y': 0.2857103645801544},\n",
      "                                {'Type': 'rightEyeDown',\n",
      "                                 'X': 0.57051020860672,\n",
      "                                 'Y': 0.2956153154373169},\n",
      "                                {'Type': 'noseLeft',\n",
      "                                 'X': 0.5902524590492249,\n",
      "                                 'Y': 0.38303500413894653},\n",
      "                                {'Type': 'noseRight',\n",
      "                                 'X': 0.6266986727714539,\n",
      "                                 'Y': 0.3591298758983612},\n",
      "                                {'Type': 'mouthUp',\n",
      "                                 'X': 0.6388711929321289,\n",
      "                                 'Y': 0.3899678587913513},\n",
      "                                {'Type': 'mouthDown',\n",
      "                                 'X': 0.6638977527618408,\n",
      "                                 'Y': 0.4201190769672394},\n",
      "                                {'Type': 'leftPupil',\n",
      "                                 'X': 0.4706243574619293,\n",
      "                                 'Y': 0.3557208478450775},\n",
      "                                {'Type': 'rightPupil',\n",
      "                                 'X': 0.5657208561897278,\n",
      "                                 'Y': 0.2914467751979828},\n",
      "                                {'Type': 'upperJawlineLeft',\n",
      "                                 'X': 0.3297518193721771,\n",
      "                                 'Y': 0.4343545436859131},\n",
      "                                {'Type': 'midJawlineLeft',\n",
      "                                 'X': 0.475261390209198,\n",
      "                                 'Y': 0.5109307169914246},\n",
      "                                {'Type': 'chinBottom',\n",
      "                                 'X': 0.6956387162208557,\n",
      "                                 'Y': 0.4759577214717865},\n",
      "                                {'Type': 'midJawlineRight',\n",
      "                                 'X': 0.6514529585838318,\n",
      "                                 'Y': 0.3976360261440277},\n",
      "                                {'Type': 'upperJawlineRight',\n",
      "                                 'X': 0.5446766018867493,\n",
      "                                 'Y': 0.29565122723579407}],\n",
      "                  'MouthOpen': {'Confidence': 94.70223999023438,\n",
      "                                'Value': True},\n",
      "                  'Mustache': {'Confidence': 98.00555419921875,\n",
      "                               'Value': False},\n",
      "                  'Pose': {'Pitch': -10.027502059936523,\n",
      "                           'Roll': -44.192813873291016,\n",
      "                           'Yaw': 34.46031188964844},\n",
      "                  'Quality': {'Brightness': 78.78730010986328,\n",
      "                              'Sharpness': 96.61495208740234},\n",
      "                  'Smile': {'Confidence': 96.20728302001953,\n",
      "                            'Value': True},\n",
      "                  'Sunglasses': {'Confidence': 99.99664306640625,\n",
      "                                 'Value': False}}],\n",
      " 'ResponseMetadata': {'HTTPHeaders': {'content-length': '3346',\n",
      "                                      'content-type': 'application/x-amz-json-1.1',\n",
      "                                      'date': 'Thu, '\n",
      "                                              '02 '\n",
      "                                              'Mar '\n",
      "                                              '2023 '\n",
      "                                              '20:08:54 '\n",
      "                                              'GMT',\n",
      "                                      'x-amzn-requestid': 'f8dcd657-4db4-431d-b282-ea366d6a7f71'},\n",
      "                      'HTTPStatusCode': 200,\n",
      "                      'RequestId': 'f8dcd657-4db4-431d-b282-ea366d6a7f71',\n",
      "                      'RetryAttempts': 0}}\n"
     ]
    }
   ],
   "source": [
    "pp.pprint(response)"
   ]
  },
  {
   "cell_type": "markdown",
   "metadata": {},
   "source": [
    "### Rekognition Images from S3"
   ]
  },
  {
   "cell_type": "code",
   "execution_count": null,
   "metadata": {},
   "outputs": [],
   "source": [
    "response = client.detect_faces(\n",
    "    Image={\n",
    "        'S3Object':{\n",
    "            'Bucket':'smart-eye-rekognition-bucket',\n",
    "            'Name': 'Sindibad.PNG'\n",
    "        }\n",
    "    },\n",
    "    # Default just detects the face. It returns { BoundingBox, Confidence, Pose, Quality, and Landmarks}\n",
    "    # All returns, well... all!\n",
    "    Attributes=['ALL']\n",
    ")"
   ]
  },
  {
   "cell_type": "code",
   "execution_count": null,
   "metadata": {},
   "outputs": [],
   "source": [
    "pprint(response)"
   ]
  }
 ],
 "metadata": {
  "kernelspec": {
   "display_name": "Python 3",
   "language": "python",
   "name": "python3"
  },
  "language_info": {
   "codemirror_mode": {
    "name": "ipython",
    "version": 3
   },
   "file_extension": ".py",
   "mimetype": "text/x-python",
   "name": "python",
   "nbconvert_exporter": "python",
   "pygments_lexer": "ipython3",
   "version": "3.10.10"
  },
  "orig_nbformat": 4,
  "vscode": {
   "interpreter": {
    "hash": "93b9dd61d3c074e6ef2fb01b8b342c4a6633d7bce29021c6c29443d33eafac20"
   }
  }
 },
 "nbformat": 4,
 "nbformat_minor": 2
}
