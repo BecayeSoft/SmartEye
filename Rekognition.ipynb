{
 "cells": [
  {
   "cell_type": "code",
   "execution_count": 9,
   "metadata": {},
   "outputs": [],
   "source": [
    "# !%pip% install boto3"
   ]
  },
  {
   "cell_type": "code",
   "execution_count": 10,
   "metadata": {},
   "outputs": [],
   "source": [
    "import boto3\n",
    "import pprint\n",
    "pp = pprint.PrettyPrinter(width=41, compact=True)"
   ]
  },
  {
   "cell_type": "markdown",
   "metadata": {},
   "source": [
    "### Getting Credentials"
   ]
  },
  {
   "cell_type": "code",
   "execution_count": 11,
   "metadata": {},
   "outputs": [],
   "source": [
    "\n",
    "session = boto3.Session()\n",
    "credentials = session.get_credentials()\n",
    "# Credentials are refreshable, so accessing your access key / secret key separately\n",
    "# can lead to a race condition. Use this to get an actual matched set.\n",
    "credentials = credentials.get_frozen_credentials()\n",
    "access_key = credentials.access_key\n",
    "secret_key = credentials.secret_key"
   ]
  },
  {
   "cell_type": "markdown",
   "metadata": {},
   "source": [
    "### Connexction to boto3"
   ]
  },
  {
   "cell_type": "code",
   "execution_count": 12,
   "metadata": {},
   "outputs": [
    {
     "data": {
      "text/plain": [
       "<botocore.client.Rekognition at 0x2355859f0a0>"
      ]
     },
     "execution_count": 12,
     "metadata": {},
     "output_type": "execute_result"
    }
   ],
   "source": [
    "session = boto3.Session()\n",
    "\n",
    "# Create a Rekognition client\n",
    "# An object to interact with rekognition\n",
    "client = boto3.client(\n",
    "    'rekognition',\n",
    "    region_name=session.region_name,\n",
    ")\n",
    "\n",
    "client"
   ]
  },
  {
   "cell_type": "markdown",
   "metadata": {},
   "source": [
    "\n",
    "### Rekognition with Uploaded Image"
   ]
  },
  {
   "cell_type": "code",
   "execution_count": 13,
   "metadata": {},
   "outputs": [
    {
     "ename": "FileNotFoundError",
     "evalue": "[Errno 2] No such file or directory: 'woman.jpg'",
     "output_type": "error",
     "traceback": [
      "\u001b[1;31m---------------------------------------------------------------------------\u001b[0m",
      "\u001b[1;31mFileNotFoundError\u001b[0m                         Traceback (most recent call last)",
      "Cell \u001b[1;32mIn [13], line 2\u001b[0m\n\u001b[0;32m      1\u001b[0m \u001b[39m# uploading image file directly as byte array\u001b[39;00m\n\u001b[1;32m----> 2\u001b[0m \u001b[39mwith\u001b[39;00m \u001b[39mopen\u001b[39;49m(\u001b[39m\"\u001b[39;49m\u001b[39mwoman.jpg\u001b[39;49m\u001b[39m\"\u001b[39;49m, \u001b[39m'\u001b[39;49m\u001b[39mrb\u001b[39;49m\u001b[39m'\u001b[39;49m) \u001b[39mas\u001b[39;00m image:\n\u001b[0;32m      3\u001b[0m     response \u001b[39m=\u001b[39m client\u001b[39m.\u001b[39mdetect_faces(Image\u001b[39m=\u001b[39m{\n\u001b[0;32m      4\u001b[0m         \u001b[39m'\u001b[39m\u001b[39mBytes\u001b[39m\u001b[39m'\u001b[39m: image\u001b[39m.\u001b[39mread()\n\u001b[0;32m      5\u001b[0m      },\n\u001b[1;32m   (...)\u001b[0m\n\u001b[0;32m      8\u001b[0m     Attributes\u001b[39m=\u001b[39m[\u001b[39m'\u001b[39m\u001b[39mALL\u001b[39m\u001b[39m'\u001b[39m]\n\u001b[0;32m      9\u001b[0m )\n",
      "\u001b[1;31mFileNotFoundError\u001b[0m: [Errno 2] No such file or directory: 'woman.jpg'"
     ]
    }
   ],
   "source": [
    "\n",
    "# uploading image file directly as byte array\n",
    "with open(\"woman.jpg\", 'rb') as image:\n",
    "    response = client.detect_faces(Image={\n",
    "        'Bytes': image.read()\n",
    "     },\n",
    "\n",
    "     # returns all attributes\n",
    "    Attributes=['ALL']\n",
    ")"
   ]
  },
  {
   "cell_type": "code",
   "execution_count": null,
   "metadata": {},
   "outputs": [
    {
     "name": "stdout",
     "output_type": "stream",
     "text": [
      "{'FaceDetails': [{'AgeRange': {'High': 33,\n",
      "                               'Low': 23},\n",
      "                  'Beard': {'Confidence': 77.11898040771484,\n",
      "                            'Value': True},\n",
      "                  'BoundingBox': {'Height': 0.1626363843679428,\n",
      "                                  'Left': 0.34176215529441833,\n",
      "                                  'Top': 0.19993078708648682,\n",
      "                                  'Width': 0.24249082803726196},\n",
      "                  'Confidence': 99.99711608886719,\n",
      "                  'Emotions': [{'Confidence': 52.23295593261719,\n",
      "                                'Type': 'CALM'},\n",
      "                               {'Confidence': 23.26483726501465,\n",
      "                                'Type': 'ANGRY'},\n",
      "                               {'Confidence': 14.965447425842285,\n",
      "                                'Type': 'CONFUSED'},\n",
      "                               {'Confidence': 6.483492374420166,\n",
      "                                'Type': 'SURPRISED'},\n",
      "                               {'Confidence': 6.240685939788818,\n",
      "                                'Type': 'DISGUSTED'},\n",
      "                               {'Confidence': 6.076356887817383,\n",
      "                                'Type': 'FEAR'},\n",
      "                               {'Confidence': 2.7976040840148926,\n",
      "                                'Type': 'SAD'},\n",
      "                               {'Confidence': 0.4100971519947052,\n",
      "                                'Type': 'HAPPY'}],\n",
      "                  'Eyeglasses': {'Confidence': 77.9197006225586,\n",
      "                                 'Value': True},\n",
      "                  'EyesOpen': {'Confidence': 98.01689910888672,\n",
      "                               'Value': True},\n",
      "                  'Gender': {'Confidence': 99.44691467285156,\n",
      "                             'Value': 'Male'},\n",
      "                  'Landmarks': [{'Type': 'eyeLeft',\n",
      "                                 'X': 0.3961613178253174,\n",
      "                                 'Y': 0.2744258940219879},\n",
      "                                {'Type': 'eyeRight',\n",
      "                                 'X': 0.498974472284317,\n",
      "                                 'Y': 0.2623312175273895},\n",
      "                                {'Type': 'mouthLeft',\n",
      "                                 'X': 0.42528292536735535,\n",
      "                                 'Y': 0.3283034563064575},\n",
      "                                {'Type': 'mouthRight',\n",
      "                                 'X': 0.5107572674751282,\n",
      "                                 'Y': 0.3182815611362457},\n",
      "                                {'Type': 'nose',\n",
      "                                 'X': 0.44441720843315125,\n",
      "                                 'Y': 0.2957506477832794},\n",
      "                                {'Type': 'leftEyeBrowLeft',\n",
      "                                 'X': 0.3574259579181671,\n",
      "                                 'Y': 0.2666056454181671},\n",
      "                                {'Type': 'leftEyeBrowRight',\n",
      "                                 'X': 0.4060205817222595,\n",
      "                                 'Y': 0.2548375725746155},\n",
      "                                {'Type': 'leftEyeBrowUp',\n",
      "                                 'X': 0.37750110030174255,\n",
      "                                 'Y': 0.25577133893966675},\n",
      "                                {'Type': 'rightEyeBrowLeft',\n",
      "                                 'X': 0.4651651084423065,\n",
      "                                 'Y': 0.24790674448013306},\n",
      "                                {'Type': 'rightEyeBrowRight',\n",
      "                                 'X': 0.5366913080215454,\n",
      "                                 'Y': 0.2457229197025299},\n",
      "                                {'Type': 'rightEyeBrowUp',\n",
      "                                 'X': 0.49662643671035767,\n",
      "                                 'Y': 0.24188673496246338},\n",
      "                                {'Type': 'leftEyeLeft',\n",
      "                                 'X': 0.3793916702270508,\n",
      "                                 'Y': 0.276449054479599},\n",
      "                                {'Type': 'leftEyeRight',\n",
      "                                 'X': 0.4166414439678192,\n",
      "                                 'Y': 0.27247580885887146},\n",
      "                                {'Type': 'leftEyeUp',\n",
      "                                 'X': 0.3939337432384491,\n",
      "                                 'Y': 0.2715390920639038},\n",
      "                                {'Type': 'leftEyeDown',\n",
      "                                 'X': 0.3973952531814575,\n",
      "                                 'Y': 0.27666911482810974},\n",
      "                                {'Type': 'rightEyeLeft',\n",
      "                                 'X': 0.4787697196006775,\n",
      "                                 'Y': 0.26517295837402344},\n",
      "                                {'Type': 'rightEyeRight',\n",
      "                                 'X': 0.5189036130905151,\n",
      "                                 'Y': 0.2601706385612488},\n",
      "                                {'Type': 'rightEyeUp',\n",
      "                                 'X': 0.49726763367652893,\n",
      "                                 'Y': 0.25942063331604004},\n",
      "                                {'Type': 'rightEyeDown',\n",
      "                                 'X': 0.49930188059806824,\n",
      "                                 'Y': 0.2647589147090912},\n",
      "                                {'Type': 'noseLeft',\n",
      "                                 'X': 0.436283141374588,\n",
      "                                 'Y': 0.3047583997249603},\n",
      "                                {'Type': 'noseRight',\n",
      "                                 'X': 0.4745486080646515,\n",
      "                                 'Y': 0.30040401220321655},\n",
      "                                {'Type': 'mouthUp',\n",
      "                                 'X': 0.4592263102531433,\n",
      "                                 'Y': 0.31539398431777954},\n",
      "                                {'Type': 'mouthDown',\n",
      "                                 'X': 0.467722624540329,\n",
      "                                 'Y': 0.33200618624687195},\n",
      "                                {'Type': 'leftPupil',\n",
      "                                 'X': 0.3961613178253174,\n",
      "                                 'Y': 0.2744258940219879},\n",
      "                                {'Type': 'rightPupil',\n",
      "                                 'X': 0.498974472284317,\n",
      "                                 'Y': 0.2623312175273895},\n",
      "                                {'Type': 'upperJawlineLeft',\n",
      "                                 'X': 0.35636255145072937,\n",
      "                                 'Y': 0.2847716212272644},\n",
      "                                {'Type': 'midJawlineLeft',\n",
      "                                 'X': 0.3985014259815216,\n",
      "                                 'Y': 0.3405827283859253},\n",
      "                                {'Type': 'chinBottom',\n",
      "                                 'X': 0.48546937108039856,\n",
      "                                 'Y': 0.36085790395736694},\n",
      "                                {'Type': 'midJawlineRight',\n",
      "                                 'X': 0.581936240196228,\n",
      "                                 'Y': 0.3198021948337555},\n",
      "                                {'Type': 'upperJawlineRight',\n",
      "                                 'X': 0.5818995833396912,\n",
      "                                 'Y': 0.25873807072639465}],\n",
      "                  'MouthOpen': {'Confidence': 86.71760559082031,\n",
      "                                'Value': False},\n",
      "                  'Mustache': {'Confidence': 80.57937622070312,\n",
      "                               'Value': False},\n",
      "                  'Pose': {'Pitch': 6.546623706817627,\n",
      "                           'Roll': -12.973320007324219,\n",
      "                           'Yaw': -9.740562438964844},\n",
      "                  'Quality': {'Brightness': 72.93730163574219,\n",
      "                              'Sharpness': 73.32209777832031},\n",
      "                  'Smile': {'Confidence': 94.12560272216797,\n",
      "                            'Value': False},\n",
      "                  'Sunglasses': {'Confidence': 99.99168395996094,\n",
      "                                 'Value': False}}],\n",
      " 'ResponseMetadata': {'HTTPHeaders': {'content-length': '3343',\n",
      "                                      'content-type': 'application/x-amz-json-1.1',\n",
      "                                      'date': 'Thu, '\n",
      "                                              '02 '\n",
      "                                              'Mar '\n",
      "                                              '2023 '\n",
      "                                              '19:58:12 '\n",
      "                                              'GMT',\n",
      "                                      'x-amzn-requestid': '7139bb1c-753f-43c3-b80e-48d7164c005c'},\n",
      "                      'HTTPStatusCode': 200,\n",
      "                      'RequestId': '7139bb1c-753f-43c3-b80e-48d7164c005c',\n",
      "                      'RetryAttempts': 0}}\n"
     ]
    }
   ],
   "source": [
    "pp.pprint(response)"
   ]
  },
  {
   "cell_type": "markdown",
   "metadata": {},
   "source": [
    "### Rekognition Images from S3"
   ]
  },
  {
   "cell_type": "code",
   "execution_count": null,
   "metadata": {},
   "outputs": [],
   "source": [
    "# response = client.detect_faces(\n",
    "#     Image={\n",
    "#         'S3Object':{\n",
    "#             'Bucket':'smart-eye-rekognition-bucket',\n",
    "#             'Name': 'Sindibad.PNG'\n",
    "#         }\n",
    "#     },\n",
    "#     # Default just detects the face. It returns { BoundingBox, Confidence, Pose, Quality, and Landmarks}\n",
    "#     # All returns, well... all!\n",
    "#     Attributes=['ALL']\n",
    "# )"
   ]
  }
 ],
 "metadata": {
  "kernelspec": {
   "display_name": "Python 3",
   "language": "python",
   "name": "python3"
  },
  "language_info": {
   "codemirror_mode": {
    "name": "ipython",
    "version": 3
   },
   "file_extension": ".py",
   "mimetype": "text/x-python",
   "name": "python",
   "nbconvert_exporter": "python",
   "pygments_lexer": "ipython3",
   "version": "3.10.10"
  },
  "orig_nbformat": 4,
  "vscode": {
   "interpreter": {
    "hash": "93b9dd61d3c074e6ef2fb01b8b342c4a6633d7bce29021c6c29443d33eafac20"
   }
  }
 },
 "nbformat": 4,
 "nbformat_minor": 2
}
